{
 "cells": [
  {
   "cell_type": "code",
   "execution_count": 3,
   "id": "f96710ba",
   "metadata": {},
   "outputs": [
    {
     "name": "stdout",
     "output_type": "stream",
     "text": [
      "['t' 'a' 'b' 'd' 'g' 'j' 'f' 'u']\n",
      "[ 5 15 19 18 19 16 14  3]\n"
     ]
    }
   ],
   "source": [
    "#boolean indexing om 1 d array\n",
    "import numpy as np\n",
    "a=np.array(['t','a','b','d','g','j','f','u'])\n",
    "b=np.random.randint(1,20,8)\n",
    "print(a)\n",
    "print(b)\n"
   ]
  },
  {
   "cell_type": "code",
   "execution_count": 4,
   "id": "6ada2c10",
   "metadata": {},
   "outputs": [
    {
     "name": "stdout",
     "output_type": "stream",
     "text": [
      "[False  True  True  True  True  True  True False]\n"
     ]
    }
   ],
   "source": [
    "print(b>10)"
   ]
  },
  {
   "cell_type": "code",
   "execution_count": 6,
   "id": "3150c32a",
   "metadata": {},
   "outputs": [
    {
     "name": "stdout",
     "output_type": "stream",
     "text": [
      "[False  True  True  True  True  True  True False]\n",
      "[15 19 18 19 16 14]\n"
     ]
    }
   ],
   "source": [
    "bool_arr=b>10\n",
    "print(bool_arr)\n",
    "new_arr=b[bool_arr]\n",
    "print(new_arr)"
   ]
  },
  {
   "cell_type": "code",
   "execution_count": 7,
   "id": "f571ffb4",
   "metadata": {},
   "outputs": [
    {
     "name": "stdout",
     "output_type": "stream",
     "text": [
      "[15 19 18 19 16 14]\n"
     ]
    }
   ],
   "source": [
    "new_arr=b[b>10]\n",
    "print(new_arr)"
   ]
  },
  {
   "cell_type": "raw",
   "id": "66f9cdd5",
   "metadata": {},
   "source": [
    "new_arr=b[(b>10) & (b<18)]\n",
    "print(new_arrr)"
   ]
  },
  {
   "cell_type": "code",
   "execution_count": 9,
   "id": "229f8d99",
   "metadata": {},
   "outputs": [
    {
     "name": "stdout",
     "output_type": "stream",
     "text": [
      "[15 16 14]\n"
     ]
    }
   ],
   "source": [
    "new_arr=b[(b>10) & (b<18)]\n",
    "print(new_arr)"
   ]
  },
  {
   "cell_type": "code",
   "execution_count": 10,
   "id": "3e55523e",
   "metadata": {},
   "outputs": [
    {
     "name": "stdout",
     "output_type": "stream",
     "text": [
      "[ 5 15 19 18 19 16 14  3]\n"
     ]
    },
    {
     "data": {
      "text/plain": [
       "array([ 5, 15, 19, 18, 19, 16, 14,  3])"
      ]
     },
     "execution_count": 10,
     "metadata": {},
     "output_type": "execute_result"
    }
   ],
   "source": [
    "print(b)\n",
    "c=b\n",
    "c"
   ]
  },
  {
   "cell_type": "code",
   "execution_count": 11,
   "id": "92f90efa",
   "metadata": {},
   "outputs": [
    {
     "name": "stdout",
     "output_type": "stream",
     "text": [
      "[19 19 19 18 19 16 14  3]\n",
      "[100 100 100 100 100 100  14   3]\n"
     ]
    }
   ],
   "source": [
    "c[:3]=19\n",
    "print(c)\n",
    "c[c>15]=100\n",
    "print(c)"
   ]
  },
  {
   "cell_type": "code",
   "execution_count": 12,
   "id": "f0397a3c",
   "metadata": {},
   "outputs": [
    {
     "name": "stdout",
     "output_type": "stream",
     "text": [
      "[100 100 100 100 100 100  14   3]\n",
      "[100 100 100 100 100 100]\n",
      "[100 100 100 100 100 100  14   3]\n"
     ]
    }
   ],
   "source": [
    "print(b)\n",
    "print(b[b==100])\n",
    "print(b)"
   ]
  },
  {
   "cell_type": "code",
   "execution_count": 13,
   "id": "a3a01429",
   "metadata": {},
   "outputs": [
    {
     "name": "stdout",
     "output_type": "stream",
     "text": [
      "(array([0, 1, 2, 3, 4, 5], dtype=int64),)\n"
     ]
    }
   ],
   "source": [
    "ind=np.where(b==100)\n",
    "print(ind)"
   ]
  },
  {
   "cell_type": "code",
   "execution_count": 14,
   "id": "372b4558",
   "metadata": {},
   "outputs": [
    {
     "name": "stdout",
     "output_type": "stream",
     "text": [
      "['t' 'a' 'b' 'd' 'g' 'j' 'f' 'u']\n",
      "[100 100 100 100 100 100  14   3]\n"
     ]
    }
   ],
   "source": [
    "print(a)\n",
    "print(b)"
   ]
  },
  {
   "cell_type": "code",
   "execution_count": 16,
   "id": "9280743c",
   "metadata": {},
   "outputs": [
    {
     "name": "stdout",
     "output_type": "stream",
     "text": [
      "(array([0, 1, 2, 3, 4, 5], dtype=int64),)\n",
      "['t' 'a' 'b' 'd' 'g' 'j']\n"
     ]
    }
   ],
   "source": [
    "ind=np.where(b==100)\n",
    "print(ind)\n",
    "print(a[ind])"
   ]
  },
  {
   "cell_type": "code",
   "execution_count": 17,
   "id": "e1b71fa3",
   "metadata": {},
   "outputs": [
    {
     "name": "stdout",
     "output_type": "stream",
     "text": [
      "[[ 6 24 25  6 13 15]\n",
      " [27 26 24 12  3  6]\n",
      " [12 21  6 15 24 26]\n",
      " [23 13  2 15 16 17]\n",
      " [ 8 22 27 21 13 20]]\n"
     ]
    }
   ],
   "source": [
    "import numpy as np\n",
    "a=np.random.randint(1,30,(5,6))\n",
    "print(a)"
   ]
  },
  {
   "cell_type": "code",
   "execution_count": 19,
   "id": "8f11b63e",
   "metadata": {},
   "outputs": [
    {
     "name": "stdout",
     "output_type": "stream",
     "text": [
      "[[False  True  True False False False]\n",
      " [ True  True  True False False False]\n",
      " [False  True False False  True  True]\n",
      " [ True False False False False False]\n",
      " [False  True  True  True False False]]\n"
     ]
    }
   ],
   "source": [
    "bool_arr=a>20\n",
    "print(bool_arr)"
   ]
  },
  {
   "cell_type": "code",
   "execution_count": 20,
   "id": "43daa131",
   "metadata": {},
   "outputs": [
    {
     "name": "stdout",
     "output_type": "stream",
     "text": [
      "[24 25 27 26 24 21 24 26 23 22 27 21]\n"
     ]
    }
   ],
   "source": [
    "ans=a[bool_arr]\n",
    "print(ans)"
   ]
  },
  {
   "cell_type": "code",
   "execution_count": 21,
   "id": "5330dfa3",
   "metadata": {},
   "outputs": [
    {
     "name": "stdout",
     "output_type": "stream",
     "text": [
      "[[ 6 24 25  6 13 15]\n",
      " [27 26 24 12  3  6]\n",
      " [12 21  6 15 24 26]\n",
      " [23 13  2 15 16 17]\n",
      " [ 8 22 27 21 13 20]]\n"
     ]
    }
   ],
   "source": [
    "b=a\n",
    "print(a)"
   ]
  },
  {
   "cell_type": "code",
   "execution_count": 22,
   "id": "20a365e4",
   "metadata": {},
   "outputs": [
    {
     "name": "stdout",
     "output_type": "stream",
     "text": [
      "[[  6 100 100   6  13  15]\n",
      " [100 100 100  12   3   6]\n",
      " [ 12 100   6  15 100 100]\n",
      " [100  13   2  15  16  17]\n",
      " [  8 100 100 100  13  20]]\n"
     ]
    }
   ],
   "source": [
    "b[bool_arr]=100\n",
    "print(b)"
   ]
  },
  {
   "cell_type": "code",
   "execution_count": 26,
   "id": "37550d5d",
   "metadata": {},
   "outputs": [
    {
     "name": "stdout",
     "output_type": "stream",
     "text": [
      "[[1 7]\n",
      " [4 5]]\n",
      "[[ True False]\n",
      " [False  True]\n",
      " [ True  True]]\n"
     ]
    }
   ],
   "source": [
    "c=np.random.randint(1,10,(2,2))\n",
    "print(c)\n",
    "c_bool=np.array([[True, False],[False, True],[True, True]])\n",
    "print(c_bool)\n",
    "print(b)\n",
    "bool_"
   ]
  },
  {
   "cell_type": "code",
   "execution_count": null,
   "id": "2cda5790",
   "metadata": {},
   "outputs": [],
   "source": []
  }
 ],
 "metadata": {
  "kernelspec": {
   "display_name": "Python 3",
   "language": "python",
   "name": "python3"
  },
  "language_info": {
   "codemirror_mode": {
    "name": "ipython",
    "version": 3
   },
   "file_extension": ".py",
   "mimetype": "text/x-python",
   "name": "python",
   "nbconvert_exporter": "python",
   "pygments_lexer": "ipython3",
   "version": "3.8.8"
  }
 },
 "nbformat": 4,
 "nbformat_minor": 5
}
