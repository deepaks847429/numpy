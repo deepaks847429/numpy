{
 "cells": [
  {
   "cell_type": "code",
   "execution_count": 21,
   "id": "2952574d",
   "metadata": {},
   "outputs": [
    {
     "name": "stdout",
     "output_type": "stream",
     "text": [
      "[0.         0.55555556 1.11111111 1.66666667 2.22222222 2.77777778\n",
      " 3.33333333 3.88888889 4.44444444 5.        ]\n",
      "0.5555555555555556\n",
      "0.5555555555555556\n",
      "0.0\n",
      "0.56\n",
      "1.11\n",
      "1.67\n",
      "2.22\n",
      "2.78\n",
      "3.33\n",
      "3.89\n",
      "4.44\n",
      "5.0\n"
     ]
    }
   ],
   "source": [
    "import numpy as np\n",
    "point_array=np.linspace(0,5,10)\n",
    "print(point_array)\n",
    "print(point_array[1]-point_array[0])\n",
    "print(point_array[3]-point_array[2])\n",
    "round_off_value=np.around(point_array,decimals=2)\n",
    "print(*round_off_value, sep = \"\\n\")"
   ]
  },
  {
   "cell_type": "code",
   "execution_count": 31,
   "id": "15f8746e",
   "metadata": {},
   "outputs": [
    {
     "name": "stdout",
     "output_type": "stream",
     "text": [
      "[ 1  2  3  4  5  6  7  8  9 10]\n",
      "[False False  True  True  True  True  True  True False False]\n",
      "True\n",
      "True\n",
      "False\n",
      "False\n",
      "False\n",
      "False\n",
      "False\n",
      "False\n",
      "True\n",
      "True\n"
     ]
    }
   ],
   "source": [
    "import numpy as np\n",
    "array=np.arange(1,11,1)\n",
    "print(array)\n",
    "bool_arr=(array>2) &(array<9)\n",
    "print(bool_arr)\n",
    "new_arr=np.logical_not(bool_arr)\n",
    "print(*new_arr, sep = \"\\n\")\n"
   ]
  },
  {
   "cell_type": "code",
   "execution_count": 33,
   "id": "0f11db05",
   "metadata": {},
   "outputs": [
    {
     "name": "stdout",
     "output_type": "stream",
     "text": [
      "[15 17 19 20 14 21 16 19 13 20 22 23 21 16 18 19 20 15 17 18]\n",
      "[156 144 180 162 152 157 154 155 151 150 158 179 126 182 183 154 159 160\n",
      " 172 149]\n"
     ]
    }
   ],
   "source": [
    "age=([15,17,19,20,14,21,16,19,13,20,22,23,21,16,18,19,20,15,17,18])\n",
    "height=([156,144,180,162,152,157,154,155,151,150,158,179,126,182,183,154,159,160,172,149])\n",
    "a=np.array(age)\n",
    "b=np.array(height)\n",
    "print(a)\n",
    "print(b)\n"
   ]
  },
  {
   "cell_type": "code",
   "execution_count": 45,
   "id": "a4d5e51f",
   "metadata": {},
   "outputs": [
    {
     "name": "stdout",
     "output_type": "stream",
     "text": [
      "15 156\n",
      "19 180\n",
      "20 162\n",
      "21 157\n",
      "22 158\n",
      "23 179\n",
      "16 182\n",
      "18 183\n",
      "20 159\n",
      "15 160\n",
      "17 172\n"
     ]
    }
   ],
   "source": [
    "import numpy as np\n",
    "age=np.array([15,17,19,20,14,21,16,19,13,20,22,23,21,16,18,19,20,15,17,18])\n",
    "height=np.array([156,144,180,162,152,157,154,155,151,150,158,179,126,182,183,154,159,160,172,149])\n",
    "ind=np.where(height>155)\n",
    "age=age[ind]\n",
    "height=height[ind]\n",
    "l=len(age)\n",
    "for i in range(l):\n",
    "    print(age[i],height[i],sep=\" \")"
   ]
  },
  {
   "cell_type": "code",
   "execution_count": 44,
   "id": "2bf5a5e3",
   "metadata": {},
   "outputs": [
    {
     "name": "stdout",
     "output_type": "stream",
     "text": [
      "[[21 20 19 18 17]\n",
      " [16 15 14 13 12]\n",
      " [11 10  9  8  7]\n",
      " [ 6  5  4  3  2]]\n",
      "[[ 6  5  4  3  2]\n",
      " [11 10  9  8  7]\n",
      " [16 15 14 13 12]\n",
      " [21 20 19 18 17]]\n"
     ]
    }
   ],
   "source": [
    "import numpy as np\n",
    "a=np.array([[21,20 ,19 ,18, 17],[16, 15 ,14, 13, 12],[11, 10,  9 , 8 , 7], [ 6 , 5,  4,  3,  2]])\n",
    "print(a)\n",
    "b = a[a[:,0].argsort()]\n",
    "print(b)\n",
    "\n",
    "\n"
   ]
  },
  {
   "cell_type": "code",
   "execution_count": 32,
   "id": "7b3c8ceb",
   "metadata": {},
   "outputs": [
    {
     "name": "stdout",
     "output_type": "stream",
     "text": [
      "1\n",
      "2\n",
      "-3\n",
      "-4\n",
      "-5\n",
      "-6\n",
      "-7\n",
      "-8\n",
      "9\n",
      "10\n"
     ]
    }
   ],
   "source": [
    "import numpy as np\n",
    "l=[1, 2, 3, 4, 5, 6, 7, 8, 9, 10]\n",
    "b=np.array(l)\n",
    "ind=np.where((b>=3)&(b<=8))\n",
    "a=[-1*i for i in b[ind] ]\n",
    "b[2:8]=a[:]\n",
    "for i in b:\n",
    "    print(i)"
   ]
  }
 ],
 "metadata": {
  "kernelspec": {
   "display_name": "Python 3",
   "language": "python",
   "name": "python3"
  },
  "language_info": {
   "codemirror_mode": {
    "name": "ipython",
    "version": 3
   },
   "file_extension": ".py",
   "mimetype": "text/x-python",
   "name": "python",
   "nbconvert_exporter": "python",
   "pygments_lexer": "ipython3",
   "version": "3.8.8"
  }
 },
 "nbformat": 4,
 "nbformat_minor": 5
}
