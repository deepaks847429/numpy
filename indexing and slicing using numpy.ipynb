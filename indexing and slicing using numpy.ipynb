{
 "cells": [
  {
   "cell_type": "code",
   "execution_count": null,
   "id": "dd325b96",
   "metadata": {},
   "outputs": [],
   "source": []
  },
  {
   "cell_type": "code",
   "execution_count": 4,
   "id": "3175da76",
   "metadata": {},
   "outputs": [
    {
     "name": "stdout",
     "output_type": "stream",
     "text": [
      "[1, 2, 3, 4, 5]\n",
      "[1 2 3 4 5]\n",
      "<memory at 0x000001ED4CA7E700>\n",
      "(5,)\n",
      "int32\n",
      "(4,)\n"
     ]
    }
   ],
   "source": [
    "import numpy as np\n",
    "li=[1,2,3,4,5]\n",
    "array=np.array(li)\n",
    "print(li)\n",
    "print(array)\n",
    "print(array.data)\n",
    "print(array.shape)\n",
    "print(array.dtype)\n",
    "print(array.strides)\n"
   ]
  },
  {
   "cell_type": "code",
   "execution_count": 9,
   "id": "61029ea7",
   "metadata": {},
   "outputs": [
    {
     "name": "stdout",
     "output_type": "stream",
     "text": [
      "[[1, 2, 3, 4], [5, 6, 7, 8], [9, 10, 11, 12], [13, 14, 15, 16]]\n",
      "[[ 1  2  3  4]\n",
      " [ 5  6  7  8]\n",
      " [ 9 10 11 12]\n",
      " [13 14 15 16]]\n",
      "<memory at 0x000001D287D686C0>\n",
      "(4, 4)\n",
      "int32\n",
      "(16, 4)\n"
     ]
    }
   ],
   "source": [
    "#creating 2d array\n",
    "import numpy as  np\n",
    "li_2d=[[1,2,3,4],[5,6,7,8],[9,10,11,12],[13,14,15,16]]\n",
    "\n",
    "arr_2d=np.array(li_2d)\n",
    "\n",
    "print(li_2d)\n",
    "print(arr_2d)\n",
    "print(arr_2d.data)\n",
    "print(arr_2d.shape)\n",
    "print(arr_2d.dtype)\n",
    "print(arr_2d.strides)\n"
   ]
  },
  {
   "cell_type": "code",
   "execution_count": 15,
   "id": "5ca3e4c5",
   "metadata": {},
   "outputs": [
    {
     "name": "stdout",
     "output_type": "stream",
     "text": [
      "[1, 2, 3, 4, 5]\n",
      "[1 2 3 4 5]\n",
      "4\n",
      "4\n",
      "[2, 3, 4]\n",
      "[2 3 4]\n"
     ]
    }
   ],
   "source": [
    "#accessing element in 1d array\n",
    "#in 1d array slicing and indexing works same as list\n",
    "import numpy as np\n",
    "li=[1,2,3,4,5]\n",
    "array=np.array(li)\n",
    "print(li)\n",
    "print(array)\n",
    "print(li[3])\n",
    "print(array[3])\n",
    "print(li[1:4])\n",
    "print(array[1:4])"
   ]
  },
  {
   "cell_type": "code",
   "execution_count": 26,
   "id": "c46763a6",
   "metadata": {},
   "outputs": [
    {
     "name": "stdout",
     "output_type": "stream",
     "text": [
      "[[1, 2, 3, 4], [5, 6, 7, 8], [9, 10, 11, 12], [13, 14, 15, 16]]\n",
      "[[ 1  2  3  4]\n",
      " [ 5  6  7  8]\n",
      " [ 9 10 11 12]\n",
      " [13 14 15 16]]\n",
      "10\n",
      "10\n",
      "10\n",
      "[5, 6, 7]\n"
     ]
    }
   ],
   "source": [
    "#accessing element in 2d array\n",
    "import numpy as  np\n",
    "li_2d=[[1,2,3,4],[5,6,7,8],[9,10,11,12],[13,14,15,16]]\n",
    "\n",
    "arr_2d=np.array(li_2d)\n",
    "\n",
    "print(li_2d)\n",
    "print(arr_2d)\n",
    "print(li_2d[2][1])\n",
    "print(arr_2d[2][1])\n",
    "#we can write the above line of code like this also\n",
    "print(arr_2d[2,1])\n",
    "print(li_2d[1][0:3])\n",
    "#print(arr_2d[1][1, :3])\n"
   ]
  },
  {
   "cell_type": "code",
   "execution_count": 29,
   "id": "b326275b",
   "metadata": {},
   "outputs": [
    {
     "name": "stdout",
     "output_type": "stream",
     "text": [
      "[9, 10, 11, 12]\n",
      "[[1, 2, 3, 4], [5, 6, 7, 8], [9, 10, 11, 12]]\n",
      "[9, 10, 11, 12]\n",
      "[ 4  8 12]\n"
     ]
    }
   ],
   "source": [
    "print(li_2d[0:3][2])\n",
    "x=li_2d[0:3]\n",
    "print(x)\n",
    "print(x[2])\n",
    "#array work differently from list in numpy\n",
    "print(arr_2d[0:3,3])"
   ]
  },
  {
   "cell_type": "code",
   "execution_count": 30,
   "id": "872a3c5f",
   "metadata": {},
   "outputs": [
    {
     "name": "stdout",
     "output_type": "stream",
     "text": [
      "[[10 11]\n",
      " [14 15]]\n",
      "[[13, 14, 15, 16]]\n"
     ]
    }
   ],
   "source": [
    "print(arr_2d[2:4, 1:3])\n",
    "print(li_2d[2:4][1:3])"
   ]
  },
  {
   "cell_type": "code",
   "execution_count": null,
   "id": "df43be0d",
   "metadata": {},
   "outputs": [],
   "source": [
    "#we can't get columns chunks in list we have to use iteration , so we should use numpy array to get columns chunks\n"
   ]
  },
  {
   "cell_type": "code",
   "execution_count": null,
   "id": "dafaf174",
   "metadata": {},
   "outputs": [],
   "source": []
  },
  {
   "cell_type": "code",
   "execution_count": null,
   "id": "e24259cd",
   "metadata": {},
   "outputs": [],
   "source": []
  }
 ],
 "metadata": {
  "kernelspec": {
   "display_name": "Python 3",
   "language": "python",
   "name": "python3"
  },
  "language_info": {
   "codemirror_mode": {
    "name": "ipython",
    "version": 3
   },
   "file_extension": ".py",
   "mimetype": "text/x-python",
   "name": "python",
   "nbconvert_exporter": "python",
   "pygments_lexer": "ipython3",
   "version": "3.8.8"
  }
 },
 "nbformat": 4,
 "nbformat_minor": 5
}
