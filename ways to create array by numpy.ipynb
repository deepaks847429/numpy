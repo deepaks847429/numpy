{
 "cells": [
  {
   "cell_type": "code",
   "execution_count": 4,
   "id": "6828d020",
   "metadata": {},
   "outputs": [
    {
     "name": "stdout",
     "output_type": "stream",
     "text": [
      "[0 1 2 3 4 5 6 7 8 9]\n",
      "[2 3 4 5 6 7 8 9]\n",
      "[ 2  4  6  8 10 12 14 16 18]\n"
     ]
    }
   ],
   "source": [
    "#np.arange\n",
    "import numpy as np\n",
    "b=np.arange(10)\n",
    "print(b)\n",
    "b=np.arange(2,10)\n",
    "print(b)\n",
    "b=np.arange(2,20,2)\n",
    "print(b)\n"
   ]
  },
  {
   "cell_type": "code",
   "execution_count": 9,
   "id": "b3a703e7",
   "metadata": {},
   "outputs": [
    {
     "name": "stdout",
     "output_type": "stream",
     "text": [
      "[10.         10.81632653 11.63265306 12.44897959 13.26530612 14.08163265\n",
      " 14.89795918 15.71428571 16.53061224 17.34693878 18.16326531 18.97959184\n",
      " 19.79591837 20.6122449  21.42857143 22.24489796 23.06122449 23.87755102\n",
      " 24.69387755 25.51020408 26.32653061 27.14285714 27.95918367 28.7755102\n",
      " 29.59183673 30.40816327 31.2244898  32.04081633 32.85714286 33.67346939\n",
      " 34.48979592 35.30612245 36.12244898 36.93877551 37.75510204 38.57142857\n",
      " 39.3877551  40.20408163 41.02040816 41.83673469 42.65306122 43.46938776\n",
      " 44.28571429 45.10204082 45.91836735 46.73469388 47.55102041 48.36734694\n",
      " 49.18367347 50.        ]\n",
      "[10 10 11 11 12 13 13 14 14 15 16 16 17 17 18 19 19 20 20 21 22 22 23 23\n",
      " 24 25 25 26 26 27 28 28 29 29 30 31 31 32 32 33 34 34 35 35 36 37 37 38\n",
      " 38 39]\n"
     ]
    }
   ],
   "source": [
    "import numpy as np\n",
    "b=np.linspace(10, 50)\n",
    "print(b)\n",
    "b=np.linspace(10,40,50, dtype=int, endpoint=False)\n",
    "print(b)"
   ]
  },
  {
   "cell_type": "code",
   "execution_count": null,
   "id": "5fabf7ac",
   "metadata": {},
   "outputs": [],
   "source": [
    "# np.arange-control over step value\n",
    "#np.linspace-control over number of sample to be generated"
   ]
  },
  {
   "cell_type": "code",
   "execution_count": 10,
   "id": "f0be2dc6",
   "metadata": {},
   "outputs": [
    {
     "name": "stdout",
     "output_type": "stream",
     "text": [
      "[[1. 0. 0.]\n",
      " [0. 1. 0.]\n",
      " [0. 0. 1.]]\n"
     ]
    }
   ],
   "source": [
    "#square matrix\n",
    "b=np.identity(3)\n",
    "\n",
    "\n",
    "print(b)"
   ]
  },
  {
   "cell_type": "code",
   "execution_count": 11,
   "id": "c2ff22ee",
   "metadata": {},
   "outputs": [
    {
     "name": "stdout",
     "output_type": "stream",
     "text": [
      "[[1. 0. 0. 0.]\n",
      " [0. 1. 0. 0.]\n",
      " [0. 0. 1. 0.]]\n"
     ]
    }
   ],
   "source": [
    "#rectangualar matrix\n",
    "b=np.eye(3,4)\n",
    "print(b)\n"
   ]
  },
  {
   "cell_type": "code",
   "execution_count": 12,
   "id": "d334f4d7",
   "metadata": {},
   "outputs": [
    {
     "name": "stdout",
     "output_type": "stream",
     "text": [
      "[0.62598335 0.78870013 0.65664903]\n"
     ]
    }
   ],
   "source": [
    "#range is always from 0-1\n",
    "b=np.random.rand(3)\n",
    "print(b)"
   ]
  },
  {
   "cell_type": "code",
   "execution_count": 13,
   "id": "4828dbe9",
   "metadata": {},
   "outputs": [
    {
     "name": "stdout",
     "output_type": "stream",
     "text": [
      "[6.02925107 7.72108799 2.15543295 7.80118885 2.00950222 4.13426373\n",
      " 6.09706127 6.505552   8.43610206 3.96661006]\n"
     ]
    }
   ],
   "source": [
    "#we can increase the range value by multiplying\n",
    "b=np.random.rand(10)*10\n",
    "print(b)"
   ]
  },
  {
   "cell_type": "code",
   "execution_count": null,
   "id": "b87802f3",
   "metadata": {},
   "outputs": [],
   "source": [
    "b=np.random.randit"
   ]
  }
 ],
 "metadata": {
  "kernelspec": {
   "display_name": "Python 3",
   "language": "python",
   "name": "python3"
  },
  "language_info": {
   "codemirror_mode": {
    "name": "ipython",
    "version": 3
   },
   "file_extension": ".py",
   "mimetype": "text/x-python",
   "name": "python",
   "nbconvert_exporter": "python",
   "pygments_lexer": "ipython3",
   "version": "3.8.8"
  }
 },
 "nbformat": 4,
 "nbformat_minor": 5
}
