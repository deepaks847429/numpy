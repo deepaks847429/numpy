{
 "cells": [
  {
   "cell_type": "code",
   "execution_count": 1,
   "id": "7512faf7",
   "metadata": {},
   "outputs": [
    {
     "name": "stdout",
     "output_type": "stream",
     "text": [
      "[[7 4 9]\n",
      " [2 1 1]\n",
      " [8 7 4]]\n",
      "[[3 3 9]\n",
      " [5 7 4]\n",
      " [8 7 9]]\n"
     ]
    }
   ],
   "source": [
    "import numpy as np\n",
    "x=np.random.randint(1,10,(3,3))\n",
    "y=np.random.randint(1,10,(3,3))\n",
    "print(x)\n",
    "print(y)\n"
   ]
  },
  {
   "cell_type": "code",
   "execution_count": 3,
   "id": "fabb2cc5",
   "metadata": {},
   "outputs": [
    {
     "name": "stdout",
     "output_type": "stream",
     "text": [
      "[[4 7 1]\n",
      " [4 6 8]\n",
      " [2 7 4]]\n",
      "[[2 5 3]\n",
      " [7 5 3]\n",
      " [8 4 8]]\n"
     ]
    }
   ],
   "source": [
    "import numpy as np\n",
    "x=np.random.randint(1,10,(3,3))\n",
    "y=np.random.randint(1,10,(3,3))\n",
    "print(x)\n",
    "print(y)\n",
    "ans=x-y"
   ]
  },
  {
   "cell_type": "code",
   "execution_count": 4,
   "id": "316a4daa",
   "metadata": {},
   "outputs": [
    {
     "name": "stdout",
     "output_type": "stream",
     "text": [
      "[[ 2  2 -2]\n",
      " [-3  1  5]\n",
      " [-6  3 -4]]\n",
      "[[6 8 9]\n",
      " [3 4 4]\n",
      " [8 6 8]]\n",
      "[7 7 1]\n",
      "[[-1  1  8]\n",
      " [-4 -3  3]\n",
      " [ 1 -1  7]]\n"
     ]
    }
   ],
   "source": [
    "print(ans)\n",
    "x=np.random.randint(1,10,(3,3))\n",
    "y=np.random.randint(1,10,(3))\n",
    "print(x)\n",
    "print(y)\n",
    "print(x-y)\n"
   ]
  },
  {
   "cell_type": "code",
   "execution_count": 5,
   "id": "006cb1c7",
   "metadata": {},
   "outputs": [
    {
     "name": "stdout",
     "output_type": "stream",
     "text": [
      "[[1 6]\n",
      " [8 4]\n",
      " [4 1]]\n",
      "[[7 5 1]\n",
      " [9 7 4]]\n"
     ]
    }
   ],
   "source": [
    "x=np.random.randint(1,10,(3,2))\n",
    "y=np.random.randint(1,10,(2,3))\n",
    "print(x)\n",
    "print(y)\n",
    "y=np.transpose(y)"
   ]
  },
  {
   "cell_type": "code",
   "execution_count": null,
   "id": "64576d56",
   "metadata": {},
   "outputs": [],
   "source": []
  }
 ],
 "metadata": {
  "kernelspec": {
   "display_name": "Python 3",
   "language": "python",
   "name": "python3"
  },
  "language_info": {
   "codemirror_mode": {
    "name": "ipython",
    "version": 3
   },
   "file_extension": ".py",
   "mimetype": "text/x-python",
   "name": "python",
   "nbconvert_exporter": "python",
   "pygments_lexer": "ipython3",
   "version": "3.8.8"
  }
 },
 "nbformat": 4,
 "nbformat_minor": 5
}
